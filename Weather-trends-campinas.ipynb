{
 "cells": [
  {
   "cell_type": "markdown",
   "metadata": {},
   "source": [
    "# Project 1 - Weather Temperature Trends: Campinas x Global Overall"
   ]
  },
  {
   "cell_type": "markdown",
   "metadata": {},
   "source": [
    "The project below shows a comparison between the city of Campinas (Brazil) and global average temperatures. For this project some tools were used: Udacity's SQL Workspace, Excel, Python and Jupyter notebooks.\n",
    "\n",
    "The datasets of Campinas (nearest city to São Paulo) and the global average temperatures were extracted from Udacity's SQL Workspace. The queries used to extract the datasets were:\n",
    "\n",
    "    SELECT * FROM city_data WHERE city = 'Campinas'\n",
    "    SELECT * FROM global_data\n",
    "\n",
    "The queries runned without errors and the intended data was extracted. After that, data was downloaded as csv files, uploaded in a jupyter notebook and an analysis through python codes was made, as seen below.\n",
    "\n",
    "The rolling function was researched in (https://pandas.pydata.org/), in order to complete the project."
   ]
  },
  {
   "cell_type": "code",
   "execution_count": 1,
   "metadata": {},
   "outputs": [],
   "source": [
    "# Importing libraries\n",
    "\n",
    "import pandas as pd\n",
    "import matplotlib.pyplot as plt\n",
    "%matplotlib inline"
   ]
  },
  {
   "cell_type": "code",
   "execution_count": 2,
   "metadata": {},
   "outputs": [
    {
     "name": "stdout",
     "output_type": "stream",
     "text": [
      "Weather-trends-campinas.ipynb\n",
      "campinas_avg_temp.csv\n",
      "global_avg_temp.csv\n"
     ]
    }
   ],
   "source": [
    "# Listing files in the folder to verify names\n",
    "\n",
    "! ls './'"
   ]
  },
  {
   "cell_type": "code",
   "execution_count": 3,
   "metadata": {},
   "outputs": [
    {
     "data": {
      "text/html": [
       "<div>\n",
       "<style scoped>\n",
       "    .dataframe tbody tr th:only-of-type {\n",
       "        vertical-align: middle;\n",
       "    }\n",
       "\n",
       "    .dataframe tbody tr th {\n",
       "        vertical-align: top;\n",
       "    }\n",
       "\n",
       "    .dataframe thead th {\n",
       "        text-align: right;\n",
       "    }\n",
       "</style>\n",
       "<table border=\"1\" class=\"dataframe\">\n",
       "  <thead>\n",
       "    <tr style=\"text-align: right;\">\n",
       "      <th></th>\n",
       "      <th>year</th>\n",
       "      <th>avg_temp</th>\n",
       "    </tr>\n",
       "  </thead>\n",
       "  <tbody>\n",
       "    <tr>\n",
       "      <th>0</th>\n",
       "      <td>1750</td>\n",
       "      <td>8.72</td>\n",
       "    </tr>\n",
       "    <tr>\n",
       "      <th>1</th>\n",
       "      <td>1751</td>\n",
       "      <td>7.98</td>\n",
       "    </tr>\n",
       "    <tr>\n",
       "      <th>2</th>\n",
       "      <td>1752</td>\n",
       "      <td>5.78</td>\n",
       "    </tr>\n",
       "    <tr>\n",
       "      <th>3</th>\n",
       "      <td>1753</td>\n",
       "      <td>8.39</td>\n",
       "    </tr>\n",
       "    <tr>\n",
       "      <th>4</th>\n",
       "      <td>1754</td>\n",
       "      <td>8.47</td>\n",
       "    </tr>\n",
       "  </tbody>\n",
       "</table>\n",
       "</div>"
      ],
      "text/plain": [
       "   year  avg_temp\n",
       "0  1750      8.72\n",
       "1  1751      7.98\n",
       "2  1752      5.78\n",
       "3  1753      8.39\n",
       "4  1754      8.47"
      ]
     },
     "execution_count": 3,
     "metadata": {},
     "output_type": "execute_result"
    }
   ],
   "source": [
    "# Opening csv files\n",
    "\n",
    "campinas = pd.read_csv('campinas_avg_temp.csv', sep=',')\n",
    "world = pd.read_csv('global_avg_temp.csv', sep=',')\n",
    "#campinas.head()\n",
    "world.head()"
   ]
  },
  {
   "cell_type": "code",
   "execution_count": 4,
   "metadata": {},
   "outputs": [
    {
     "name": "stdout",
     "output_type": "stream",
     "text": [
      "              year    avg_temp\n",
      "count   182.000000  175.000000\n",
      "mean   1922.500000   19.700057\n",
      "std      52.683014    0.593897\n",
      "min    1832.000000   18.280000\n",
      "25%    1877.250000   19.245000\n",
      "50%    1922.500000   19.700000\n",
      "75%    1967.750000   20.090000\n",
      "max    2013.000000   21.300000 \n",
      "\n",
      "              year    avg_temp\n",
      "count   266.000000  266.000000\n",
      "mean   1882.500000    8.369474\n",
      "std      76.931788    0.584747\n",
      "min    1750.000000    5.780000\n",
      "25%    1816.250000    8.082500\n",
      "50%    1882.500000    8.375000\n",
      "75%    1948.750000    8.707500\n",
      "max    2015.000000    9.830000\n"
     ]
    }
   ],
   "source": [
    "# Verifying data range and basic statistics\n",
    "print(campinas.describe(), \"\\n\")\n",
    "print(world.describe())"
   ]
  },
  {
   "cell_type": "markdown",
   "metadata": {},
   "source": [
    "Analysing the statistics above, it is possible to verify that data from Campinas and global overall don't start and finish in the same year. To perform a correct analysis year by year it will be standarized the range from 1832 to 2013.\n",
    "\n",
    "The project instructions doesn't specify if the temperature measurements were in Celsius, Farenheit or any other unit of measurement. Running a quick research, through [Climate-Data database] (https://bit.ly/2AeTfqr), the mean average temperature of Campinas (19.3°C) is next to the measurements from the database (19.7). For this reason, the measurment unit of temperature from this project will be considered as celsius.\n",
    "\n",
    "It is also noticeable that the mean temperature value of global overall (8.36 °C) is lower than the mean in Campinas (19.70 °C).\n",
    "\n",
    "It isn't really clear on how the global overall temperature values were calculated, but just analysing the samples from Campinas \n",
    "(91 years) and the global samples (133 years), maybe the global overall mean temperature was lower because the quantity of samples from countries with cold climates were provided in a greater amount. To reach a precise conclusion it is necessary further analisys in the entire database. "
   ]
  },
  {
   "cell_type": "code",
   "execution_count": 5,
   "metadata": {},
   "outputs": [
    {
     "data": {
      "text/html": [
       "<div>\n",
       "<style scoped>\n",
       "    .dataframe tbody tr th:only-of-type {\n",
       "        vertical-align: middle;\n",
       "    }\n",
       "\n",
       "    .dataframe tbody tr th {\n",
       "        vertical-align: top;\n",
       "    }\n",
       "\n",
       "    .dataframe thead th {\n",
       "        text-align: right;\n",
       "    }\n",
       "</style>\n",
       "<table border=\"1\" class=\"dataframe\">\n",
       "  <thead>\n",
       "    <tr style=\"text-align: right;\">\n",
       "      <th></th>\n",
       "      <th>year</th>\n",
       "      <th>city</th>\n",
       "      <th>country</th>\n",
       "      <th>avg_temp</th>\n",
       "      <th>world_avg_temp</th>\n",
       "    </tr>\n",
       "  </thead>\n",
       "  <tbody>\n",
       "    <tr>\n",
       "      <th>0</th>\n",
       "      <td>1832</td>\n",
       "      <td>Campinas</td>\n",
       "      <td>Brazil</td>\n",
       "      <td>18.94</td>\n",
       "      <td>7.45</td>\n",
       "    </tr>\n",
       "    <tr>\n",
       "      <th>1</th>\n",
       "      <td>1833</td>\n",
       "      <td>Campinas</td>\n",
       "      <td>Brazil</td>\n",
       "      <td>19.93</td>\n",
       "      <td>8.01</td>\n",
       "    </tr>\n",
       "    <tr>\n",
       "      <th>2</th>\n",
       "      <td>1834</td>\n",
       "      <td>Campinas</td>\n",
       "      <td>Brazil</td>\n",
       "      <td>19.21</td>\n",
       "      <td>8.15</td>\n",
       "    </tr>\n",
       "    <tr>\n",
       "      <th>3</th>\n",
       "      <td>1835</td>\n",
       "      <td>Campinas</td>\n",
       "      <td>Brazil</td>\n",
       "      <td>18.62</td>\n",
       "      <td>7.39</td>\n",
       "    </tr>\n",
       "    <tr>\n",
       "      <th>4</th>\n",
       "      <td>1836</td>\n",
       "      <td>Campinas</td>\n",
       "      <td>Brazil</td>\n",
       "      <td>18.84</td>\n",
       "      <td>7.70</td>\n",
       "    </tr>\n",
       "    <tr>\n",
       "      <th>...</th>\n",
       "      <td>...</td>\n",
       "      <td>...</td>\n",
       "      <td>...</td>\n",
       "      <td>...</td>\n",
       "      <td>...</td>\n",
       "    </tr>\n",
       "    <tr>\n",
       "      <th>177</th>\n",
       "      <td>2009</td>\n",
       "      <td>Campinas</td>\n",
       "      <td>Brazil</td>\n",
       "      <td>20.78</td>\n",
       "      <td>9.51</td>\n",
       "    </tr>\n",
       "    <tr>\n",
       "      <th>178</th>\n",
       "      <td>2010</td>\n",
       "      <td>Campinas</td>\n",
       "      <td>Brazil</td>\n",
       "      <td>20.72</td>\n",
       "      <td>9.70</td>\n",
       "    </tr>\n",
       "    <tr>\n",
       "      <th>179</th>\n",
       "      <td>2011</td>\n",
       "      <td>Campinas</td>\n",
       "      <td>Brazil</td>\n",
       "      <td>20.33</td>\n",
       "      <td>9.52</td>\n",
       "    </tr>\n",
       "    <tr>\n",
       "      <th>180</th>\n",
       "      <td>2012</td>\n",
       "      <td>Campinas</td>\n",
       "      <td>Brazil</td>\n",
       "      <td>21.02</td>\n",
       "      <td>9.51</td>\n",
       "    </tr>\n",
       "    <tr>\n",
       "      <th>181</th>\n",
       "      <td>2013</td>\n",
       "      <td>Campinas</td>\n",
       "      <td>Brazil</td>\n",
       "      <td>20.07</td>\n",
       "      <td>9.61</td>\n",
       "    </tr>\n",
       "  </tbody>\n",
       "</table>\n",
       "<p>182 rows × 5 columns</p>\n",
       "</div>"
      ],
      "text/plain": [
       "     year      city country  avg_temp  world_avg_temp\n",
       "0    1832  Campinas  Brazil     18.94            7.45\n",
       "1    1833  Campinas  Brazil     19.93            8.01\n",
       "2    1834  Campinas  Brazil     19.21            8.15\n",
       "3    1835  Campinas  Brazil     18.62            7.39\n",
       "4    1836  Campinas  Brazil     18.84            7.70\n",
       "..    ...       ...     ...       ...             ...\n",
       "177  2009  Campinas  Brazil     20.78            9.51\n",
       "178  2010  Campinas  Brazil     20.72            9.70\n",
       "179  2011  Campinas  Brazil     20.33            9.52\n",
       "180  2012  Campinas  Brazil     21.02            9.51\n",
       "181  2013  Campinas  Brazil     20.07            9.61\n",
       "\n",
       "[182 rows x 5 columns]"
      ]
     },
     "execution_count": 5,
     "metadata": {},
     "output_type": "execute_result"
    }
   ],
   "source": [
    "# Getting the same range of years from global overall and adding to Campinas's dataframe\n",
    "\n",
    "new = pd.DataFrame(world[82:264].copy())\n",
    "new = new.reset_index(drop=True)\n",
    "campinas['world_avg_temp'] = new['avg_temp']\n",
    "campinas"
   ]
  },
  {
   "cell_type": "code",
   "execution_count": 6,
   "metadata": {},
   "outputs": [
    {
     "data": {
      "text/plain": [
       "year              False\n",
       "city              False\n",
       "country           False\n",
       "avg_temp           True\n",
       "world_avg_temp    False\n",
       "dtype: bool"
      ]
     },
     "execution_count": 6,
     "metadata": {},
     "output_type": "execute_result"
    }
   ],
   "source": [
    "# Verifying null values\n",
    "\n",
    "campinas.isnull().any()"
   ]
  },
  {
   "cell_type": "code",
   "execution_count": 7,
   "metadata": {},
   "outputs": [
    {
     "data": {
      "text/plain": [
       "year              0\n",
       "city              0\n",
       "country           0\n",
       "avg_temp          7\n",
       "world_avg_temp    0\n",
       "dtype: int64"
      ]
     },
     "execution_count": 7,
     "metadata": {},
     "output_type": "execute_result"
    }
   ],
   "source": [
    "# Checking the sum of missing values\n",
    "\n",
    "campinas.isnull().sum(axis=0)"
   ]
  },
  {
   "cell_type": "markdown",
   "metadata": {},
   "source": [
    "As we only have 7 NaN, it will be used the mean to fill missing values"
   ]
  },
  {
   "cell_type": "code",
   "execution_count": 9,
   "metadata": {},
   "outputs": [
    {
     "data": {
      "text/plain": [
       "year              False\n",
       "city              False\n",
       "country           False\n",
       "avg_temp          False\n",
       "world_avg_temp    False\n",
       "dtype: bool"
      ]
     },
     "execution_count": 9,
     "metadata": {},
     "output_type": "execute_result"
    }
   ],
   "source": [
    "# Filling missing values with the mean\n",
    "\n",
    "campinas.fillna(campinas.mean(), inplace=True)\n",
    "campinas.isnull().any() # Checking if the missing values are gone"
   ]
  },
  {
   "cell_type": "code",
   "execution_count": 10,
   "metadata": {},
   "outputs": [
    {
     "data": {
      "text/html": [
       "<div>\n",
       "<style scoped>\n",
       "    .dataframe tbody tr th:only-of-type {\n",
       "        vertical-align: middle;\n",
       "    }\n",
       "\n",
       "    .dataframe tbody tr th {\n",
       "        vertical-align: top;\n",
       "    }\n",
       "\n",
       "    .dataframe thead th {\n",
       "        text-align: right;\n",
       "    }\n",
       "</style>\n",
       "<table border=\"1\" class=\"dataframe\">\n",
       "  <thead>\n",
       "    <tr style=\"text-align: right;\">\n",
       "      <th></th>\n",
       "      <th>year</th>\n",
       "      <th>city</th>\n",
       "      <th>country</th>\n",
       "      <th>avg_temp</th>\n",
       "      <th>world_avg_temp</th>\n",
       "    </tr>\n",
       "  </thead>\n",
       "  <tbody>\n",
       "    <tr>\n",
       "      <th>0</th>\n",
       "      <td>1832</td>\n",
       "      <td>Campinas</td>\n",
       "      <td>Brazil</td>\n",
       "      <td>18.94</td>\n",
       "      <td>7.45</td>\n",
       "    </tr>\n",
       "    <tr>\n",
       "      <th>1</th>\n",
       "      <td>1833</td>\n",
       "      <td>Campinas</td>\n",
       "      <td>Brazil</td>\n",
       "      <td>19.93</td>\n",
       "      <td>8.01</td>\n",
       "    </tr>\n",
       "    <tr>\n",
       "      <th>2</th>\n",
       "      <td>1834</td>\n",
       "      <td>Campinas</td>\n",
       "      <td>Brazil</td>\n",
       "      <td>19.21</td>\n",
       "      <td>8.15</td>\n",
       "    </tr>\n",
       "    <tr>\n",
       "      <th>3</th>\n",
       "      <td>1835</td>\n",
       "      <td>Campinas</td>\n",
       "      <td>Brazil</td>\n",
       "      <td>18.62</td>\n",
       "      <td>7.39</td>\n",
       "    </tr>\n",
       "    <tr>\n",
       "      <th>4</th>\n",
       "      <td>1836</td>\n",
       "      <td>Campinas</td>\n",
       "      <td>Brazil</td>\n",
       "      <td>18.84</td>\n",
       "      <td>7.70</td>\n",
       "    </tr>\n",
       "  </tbody>\n",
       "</table>\n",
       "</div>"
      ],
      "text/plain": [
       "   year      city country  avg_temp  world_avg_temp\n",
       "0  1832  Campinas  Brazil     18.94            7.45\n",
       "1  1833  Campinas  Brazil     19.93            8.01\n",
       "2  1834  Campinas  Brazil     19.21            8.15\n",
       "3  1835  Campinas  Brazil     18.62            7.39\n",
       "4  1836  Campinas  Brazil     18.84            7.70"
      ]
     },
     "execution_count": 10,
     "metadata": {},
     "output_type": "execute_result"
    }
   ],
   "source": [
    "campinas.head()"
   ]
  },
  {
   "cell_type": "code",
   "execution_count": 11,
   "metadata": {},
   "outputs": [
    {
     "data": {
      "text/html": [
       "<div>\n",
       "<style scoped>\n",
       "    .dataframe tbody tr th:only-of-type {\n",
       "        vertical-align: middle;\n",
       "    }\n",
       "\n",
       "    .dataframe tbody tr th {\n",
       "        vertical-align: top;\n",
       "    }\n",
       "\n",
       "    .dataframe thead th {\n",
       "        text-align: right;\n",
       "    }\n",
       "</style>\n",
       "<table border=\"1\" class=\"dataframe\">\n",
       "  <thead>\n",
       "    <tr style=\"text-align: right;\">\n",
       "      <th></th>\n",
       "      <th>year</th>\n",
       "      <th>city</th>\n",
       "      <th>country</th>\n",
       "      <th>avg_temp</th>\n",
       "      <th>world_avg_temp</th>\n",
       "      <th>7-Day-MA_local</th>\n",
       "      <th>7-Day-MA_global</th>\n",
       "    </tr>\n",
       "  </thead>\n",
       "  <tbody>\n",
       "    <tr>\n",
       "      <th>0</th>\n",
       "      <td>1832</td>\n",
       "      <td>Campinas</td>\n",
       "      <td>Brazil</td>\n",
       "      <td>18.94</td>\n",
       "      <td>7.45</td>\n",
       "      <td>NaN</td>\n",
       "      <td>NaN</td>\n",
       "    </tr>\n",
       "    <tr>\n",
       "      <th>1</th>\n",
       "      <td>1833</td>\n",
       "      <td>Campinas</td>\n",
       "      <td>Brazil</td>\n",
       "      <td>19.93</td>\n",
       "      <td>8.01</td>\n",
       "      <td>NaN</td>\n",
       "      <td>NaN</td>\n",
       "    </tr>\n",
       "    <tr>\n",
       "      <th>2</th>\n",
       "      <td>1834</td>\n",
       "      <td>Campinas</td>\n",
       "      <td>Brazil</td>\n",
       "      <td>19.21</td>\n",
       "      <td>8.15</td>\n",
       "      <td>NaN</td>\n",
       "      <td>NaN</td>\n",
       "    </tr>\n",
       "    <tr>\n",
       "      <th>3</th>\n",
       "      <td>1835</td>\n",
       "      <td>Campinas</td>\n",
       "      <td>Brazil</td>\n",
       "      <td>18.62</td>\n",
       "      <td>7.39</td>\n",
       "      <td>NaN</td>\n",
       "      <td>NaN</td>\n",
       "    </tr>\n",
       "    <tr>\n",
       "      <th>4</th>\n",
       "      <td>1836</td>\n",
       "      <td>Campinas</td>\n",
       "      <td>Brazil</td>\n",
       "      <td>18.84</td>\n",
       "      <td>7.70</td>\n",
       "      <td>NaN</td>\n",
       "      <td>NaN</td>\n",
       "    </tr>\n",
       "    <tr>\n",
       "      <th>5</th>\n",
       "      <td>1837</td>\n",
       "      <td>Campinas</td>\n",
       "      <td>Brazil</td>\n",
       "      <td>18.28</td>\n",
       "      <td>7.38</td>\n",
       "      <td>NaN</td>\n",
       "      <td>NaN</td>\n",
       "    </tr>\n",
       "    <tr>\n",
       "      <th>6</th>\n",
       "      <td>1838</td>\n",
       "      <td>Campinas</td>\n",
       "      <td>Brazil</td>\n",
       "      <td>18.72</td>\n",
       "      <td>7.51</td>\n",
       "      <td>18.934286</td>\n",
       "      <td>7.655714</td>\n",
       "    </tr>\n",
       "    <tr>\n",
       "      <th>7</th>\n",
       "      <td>1839</td>\n",
       "      <td>Campinas</td>\n",
       "      <td>Brazil</td>\n",
       "      <td>18.52</td>\n",
       "      <td>7.63</td>\n",
       "      <td>18.874286</td>\n",
       "      <td>7.681429</td>\n",
       "    </tr>\n",
       "    <tr>\n",
       "      <th>8</th>\n",
       "      <td>1840</td>\n",
       "      <td>Campinas</td>\n",
       "      <td>Brazil</td>\n",
       "      <td>19.20</td>\n",
       "      <td>7.80</td>\n",
       "      <td>18.770000</td>\n",
       "      <td>7.651429</td>\n",
       "    </tr>\n",
       "    <tr>\n",
       "      <th>9</th>\n",
       "      <td>1841</td>\n",
       "      <td>Campinas</td>\n",
       "      <td>Brazil</td>\n",
       "      <td>18.89</td>\n",
       "      <td>7.69</td>\n",
       "      <td>18.724286</td>\n",
       "      <td>7.585714</td>\n",
       "    </tr>\n",
       "  </tbody>\n",
       "</table>\n",
       "</div>"
      ],
      "text/plain": [
       "   year      city country  avg_temp  world_avg_temp  7-Day-MA_local  \\\n",
       "0  1832  Campinas  Brazil     18.94            7.45             NaN   \n",
       "1  1833  Campinas  Brazil     19.93            8.01             NaN   \n",
       "2  1834  Campinas  Brazil     19.21            8.15             NaN   \n",
       "3  1835  Campinas  Brazil     18.62            7.39             NaN   \n",
       "4  1836  Campinas  Brazil     18.84            7.70             NaN   \n",
       "5  1837  Campinas  Brazil     18.28            7.38             NaN   \n",
       "6  1838  Campinas  Brazil     18.72            7.51       18.934286   \n",
       "7  1839  Campinas  Brazil     18.52            7.63       18.874286   \n",
       "8  1840  Campinas  Brazil     19.20            7.80       18.770000   \n",
       "9  1841  Campinas  Brazil     18.89            7.69       18.724286   \n",
       "\n",
       "   7-Day-MA_global  \n",
       "0              NaN  \n",
       "1              NaN  \n",
       "2              NaN  \n",
       "3              NaN  \n",
       "4              NaN  \n",
       "5              NaN  \n",
       "6         7.655714  \n",
       "7         7.681429  \n",
       "8         7.651429  \n",
       "9         7.585714  "
      ]
     },
     "execution_count": 11,
     "metadata": {},
     "output_type": "execute_result"
    }
   ],
   "source": [
    "# Creating moving average column with a 7-day moving average (7-day-MA), using the rolling function\n",
    "\n",
    "campinas['7-Day-MA_local'] = campinas['avg_temp'].rolling(window=7).mean()\n",
    "campinas['7-Day-MA_global'] = campinas['world_avg_temp'].rolling(window=7).mean()\n",
    "campinas.head(10)"
   ]
  },
  {
   "cell_type": "markdown",
   "metadata": {},
   "source": [
    "# Plotting the results"
   ]
  },
  {
   "cell_type": "code",
   "execution_count": 12,
   "metadata": {},
   "outputs": [
    {
     "data": {
      "text/plain": [
       "<matplotlib.legend.Legend at 0x17bfa060c10>"
      ]
     },
     "execution_count": 12,
     "metadata": {},
     "output_type": "execute_result"
    },
    {
     "data": {
      "image/png": "[encoded data removed]",
      "text/plain": [
       "<Figure size 720x720 with 1 Axes>"
      ]
     },
     "metadata": {
      "needs_background": "light"
     },
     "output_type": "display_data"
    }
   ],
   "source": [
    "# Plotting a line graph with titles, grid line and legend\n",
    "\n",
    "plt.figure(figsize=[10,10])\n",
    "plt.grid(True)\n",
    "plt.xlabel(\"\\nYears\")\n",
    "plt.ylabel(\"Temperature °C\\n\")\n",
    "plt.title(\"Weather trends Campinas and Global\\n\")\n",
    "plt.plot(campinas['year'], campinas['7-Day-MA_local'], label=\"MA local\")\n",
    "plt.plot(campinas['year'], campinas['7-Day-MA_global'], label=\"MA global\")\n",
    "plt.legend(loc=2)"
   ]
  },
  {
   "cell_type": "markdown",
   "metadata": {},
   "source": [
    "## Final analisys\n",
    "\n",
    "Analysing the line graph, it is possible to observe that the local and global average temperature increased about 2°C in almost 100 years. \n",
    "\n",
    "It is possible to verify a rapid increase in temperature after 1975, possibly due to the increased emission of harmful gases to the atmosphere.\n",
    "\n",
    "The behaviour of the curves are similar (but not equal) and shows that the temperatures follow the same trend.\n",
    "\n",
    "The moving average temperature of Campinas has some fluctuations, which could have occurred for many reasons like imprecise meassurement or lack of data in some season of the year, for example. To reach a precise conclusion it is necessary further analisys in how and when the data was extracted and measured. "
   ]
  }
 ],
 "metadata": {
  "kernelspec": {
   "display_name": "Python 3",
   "language": "python",
   "name": "python3"
  },
  "language_info": {
   "codemirror_mode": {
    "name": "ipython",
    "version": 3
   },
   "file_extension": ".py",
   "mimetype": "text/x-python",
   "name": "python",
   "nbconvert_exporter": "python",
   "pygments_lexer": "ipython3",
   "version": "3.8.3"
  }
 },
 "nbformat": 4,
 "nbformat_minor": 4
}
